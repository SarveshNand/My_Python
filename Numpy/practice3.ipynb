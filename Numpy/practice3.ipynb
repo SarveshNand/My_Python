{
 "cells": [
  {
   "cell_type": "code",
   "execution_count": 1,
   "id": "86eb6468-b90d-4d5b-aea5-be6cfc0f753c",
   "metadata": {},
   "outputs": [],
   "source": [
    "import numpy as np"
   ]
  },
  {
   "cell_type": "code",
   "execution_count": 2,
   "id": "d617ca08-bd3f-4a84-9aeb-e219d90206a7",
   "metadata": {},
   "outputs": [
    {
     "data": {
      "text/plain": [
       "array([ 1,  2,  3,  4,  5,  6,  7,  8,  9, 10])"
      ]
     },
     "execution_count": 2,
     "metadata": {},
     "output_type": "execute_result"
    }
   ],
   "source": [
    "# Create a 1D array of numbers from 1 to 10.\n",
    "arr = np.array([1, 2, 3, 4, 5, 6, 7, 8, 9, 10])\n",
    "arr"
   ]
  },
  {
   "cell_type": "code",
   "execution_count": 3,
   "id": "a02e4373-3904-48b9-94fc-9c813410b35b",
   "metadata": {},
   "outputs": [
    {
     "data": {
      "text/plain": [
       "array([[ 1,  2,  3,  4,  5],\n",
       "       [ 6,  7,  8,  9, 10]])"
      ]
     },
     "execution_count": 3,
     "metadata": {},
     "output_type": "execute_result"
    }
   ],
   "source": [
    "# Reshape your array into a 2D 2×5 matrix.\n",
    "reshape = arr.reshape(2, 5)\n",
    "reshape"
   ]
  },
  {
   "cell_type": "code",
   "execution_count": 6,
   "id": "d8abc1d2-ae96-4015-8c39-2cba04eaca70",
   "metadata": {},
   "outputs": [
    {
     "data": {
      "text/plain": [
       "array([[ 1,  2],\n",
       "       [ 3,  4],\n",
       "       [ 5,  6],\n",
       "       [ 7,  8],\n",
       "       [ 9, 10]])"
      ]
     },
     "execution_count": 6,
     "metadata": {},
     "output_type": "execute_result"
    }
   ],
   "source": [
    "# Reshape it again into a 5×2 matrix.\n",
    "reshape_again = reshape.reshape(5, 2)\n",
    "reshape_again"
   ]
  },
  {
   "cell_type": "code",
   "execution_count": 9,
   "id": "a705f147-a421-4f47-a316-2cc8930ac944",
   "metadata": {},
   "outputs": [
    {
     "data": {
      "text/plain": [
       "array([[1, 2, 3, 4, 5]])"
      ]
     },
     "execution_count": 9,
     "metadata": {},
     "output_type": "execute_result"
    }
   ],
   "source": [
    "# From the 2×5 matrix, extract the first row.\n",
    "reshape_first_row = reshape[:1]\n",
    "reshape_first_row"
   ]
  },
  {
   "cell_type": "code",
   "execution_count": 10,
   "id": "0e522d3f-72b0-42fb-9001-d96b02bf13d7",
   "metadata": {},
   "outputs": [
    {
     "data": {
      "text/plain": [
       "array([ 6,  7,  8,  9, 10])"
      ]
     },
     "execution_count": 10,
     "metadata": {},
     "output_type": "execute_result"
    }
   ],
   "source": [
    "# From the same matrix, extract the last column.\n",
    "reshape_last_row = reshape[-1]\n",
    "reshape_last_row"
   ]
  },
  {
   "cell_type": "code",
   "execution_count": 11,
   "id": "aacf09ab-9361-406e-83b0-7b5d730944e8",
   "metadata": {},
   "outputs": [
    {
     "data": {
      "text/plain": [
       "array([4, 5, 6])"
      ]
     },
     "execution_count": 11,
     "metadata": {},
     "output_type": "execute_result"
    }
   ],
   "source": [
    "# Get the middle 3 numbers from your original 1D array (numbers 4, 5, 6).\n",
    "middle_numbers = arr[3:6]\n",
    "middle_numbers"
   ]
  },
  {
   "cell_type": "code",
   "execution_count": 14,
   "id": "d8ef41c4-77fa-4324-a095-cc7b3f18a871",
   "metadata": {},
   "outputs": [
    {
     "data": {
      "text/plain": [
       "array([  1,   4,   9,  16,  25,  36,  49,  64,  81, 100])"
      ]
     },
     "execution_count": 14,
     "metadata": {},
     "output_type": "execute_result"
    }
   ],
   "source": [
    "# Square every number in your 1D array.\n",
    "square_numbers = arr**2\n",
    "square_numbers"
   ]
  },
  {
   "cell_type": "code",
   "execution_count": 17,
   "id": "4e0dd803-e90a-444d-9174-16c377897cb9",
   "metadata": {},
   "outputs": [
    {
     "data": {
      "text/plain": [
       "array([[11, 12, 13, 14, 15],\n",
       "       [16, 17, 18, 19, 20]])"
      ]
     },
     "execution_count": 17,
     "metadata": {},
     "output_type": "execute_result"
    }
   ],
   "source": [
    "# Add 10 to every element in your 2×5 matrix.\n",
    "added_reshape = reshape + 10\n",
    "added_reshape"
   ]
  },
  {
   "cell_type": "code",
   "execution_count": 18,
   "id": "53fd1421-02be-4f65-965f-6bce5664dcac",
   "metadata": {},
   "outputs": [
    {
     "data": {
      "text/plain": [
       "array([[ 2,  4],\n",
       "       [ 6,  8],\n",
       "       [10, 12],\n",
       "       [14, 16],\n",
       "       [18, 20]])"
      ]
     },
     "execution_count": 18,
     "metadata": {},
     "output_type": "execute_result"
    }
   ],
   "source": [
    "# Multiply your 5×2 matrix by 2 (elementwise).\n",
    "multiplied_reshape_again = reshape_again * 2\n",
    "multiplied_reshape_again"
   ]
  },
  {
   "cell_type": "code",
   "execution_count": 24,
   "id": "914d41be-64f2-4fa2-8ef5-3812d531403c",
   "metadata": {},
   "outputs": [
    {
     "name": "stdout",
     "output_type": "stream",
     "text": [
      "False\n",
      "True\n",
      "False\n",
      "True\n",
      "False\n",
      "True\n",
      "False\n",
      "True\n",
      "False\n",
      "True\n"
     ]
    }
   ],
   "source": [
    "# From the original array of 1–10, extract all even numbers.\n",
    "for i in arr % 2 == 0:\n",
    "    print(i)"
   ]
  },
  {
   "cell_type": "code",
   "execution_count": 27,
   "id": "6be1c3c6-fd58-43f3-805f-e77911f7858c",
   "metadata": {},
   "outputs": [
    {
     "data": {
      "text/plain": [
       "array([-1,  2, -1,  4, -1,  6, -1,  8, -1, 10])"
      ]
     },
     "execution_count": 27,
     "metadata": {},
     "output_type": "execute_result"
    }
   ],
   "source": [
    "# Replace all odd numbers with -1.\n",
    "arr[arr % 2 != 0] = -1\n",
    "arr"
   ]
  },
  {
   "cell_type": "code",
   "execution_count": 28,
   "id": "a4b30575-0728-4a68-86f7-8ebd074f9a73",
   "metadata": {},
   "outputs": [
    {
     "data": {
      "text/plain": [
       "array([56, 47, 12, 94, 94, 68, 97, 81,  2, 56,  9, 34, 73, 39, 78, 50, 61,\n",
       "       82,  4, 94])"
      ]
     },
     "execution_count": 28,
     "metadata": {},
     "output_type": "execute_result"
    }
   ],
   "source": [
    "# Generate an array of 20 random integers between 1 and 100.\n",
    "random_int = np.random.randint(1, 101, size=20)\n",
    "random_int"
   ]
  },
  {
   "cell_type": "code",
   "execution_count": 29,
   "id": "5ce6c754-f628-4745-983b-d88223935ce4",
   "metadata": {},
   "outputs": [
    {
     "name": "stdout",
     "output_type": "stream",
     "text": [
      "Mean: 56.55\n",
      "Median: 58.5\n",
      "Standard deviation: 30.744877622134062\n"
     ]
    }
   ],
   "source": [
    "# Find the mean, median, and standard deviation of this array.\n",
    "mean = np.mean(random_int)\n",
    "median = np.median(random_int)\n",
    "std_dev = np.std(random_int)\n",
    "\n",
    "print(f\"Mean: {mean}\")\n",
    "print(f\"Median: {median}\")\n",
    "print(f\"Standard deviation: {std_dev}\")"
   ]
  },
  {
   "cell_type": "code",
   "execution_count": 30,
   "id": "8ada61e5-291a-4d10-8b3d-7a84b1304c05",
   "metadata": {},
   "outputs": [
    {
     "data": {
      "text/plain": [
       "97"
      ]
     },
     "execution_count": 30,
     "metadata": {},
     "output_type": "execute_result"
    }
   ],
   "source": [
    "# Find the maximum value in this array and its index.\n",
    "max_value = np.max(random_int)\n",
    "max_value"
   ]
  },
  {
   "cell_type": "code",
   "execution_count": 31,
   "id": "903c1619-a343-41be-9f2b-189ed018e4b9",
   "metadata": {},
   "outputs": [
    {
     "data": {
      "text/plain": [
       "array([-0.01788916, -0.31062085, -1.44902187,  1.21808909,  1.21808909,\n",
       "        0.37241976,  1.31566632,  0.79525443, -1.7742793 , -0.01788916,\n",
       "       -1.5465991 , -0.73345551,  0.53504848, -0.5708268 ,  0.6976772 ,\n",
       "       -0.21304362,  0.14473956,  0.82778017, -1.70922781,  1.21808909])"
      ]
     },
     "execution_count": 31,
     "metadata": {},
     "output_type": "execute_result"
    }
   ],
   "source": [
    "# Imagine this array is exam scores of 20 students. Standardize it (z-score normalization).\n",
    "z_scores = (random_int - mean) / std_dev\n",
    "z_scores"
   ]
  },
  {
   "cell_type": "code",
   "execution_count": 33,
   "id": "550cec9a-8301-43fb-83c6-c9a9e782b58d",
   "metadata": {},
   "outputs": [
    {
     "data": {
      "text/plain": [
       "array([ 0.13172926,  0.13823441, -0.32363115,  0.05366748])"
      ]
     },
     "execution_count": 33,
     "metadata": {},
     "output_type": "execute_result"
    }
   ],
   "source": [
    "# Reshape it into a 4×5 “classroom” matrix. Find the average score of each row (each row = one group of 5 students).\n",
    "classroom = z_scores.reshape(4, 5)\n",
    "avg_classroom = np.average(classroom, axis=1)\n",
    "avg_classroom"
   ]
  },
  {
   "cell_type": "code",
   "execution_count": 34,
   "id": "fe312e7e-17d4-4a3b-814a-57b734b55aec",
   "metadata": {},
   "outputs": [
    {
     "data": {
      "text/plain": [
       "array([[ 1,  2,  3,  4,  5,  6],\n",
       "       [ 7,  8,  9, 10, 11, 12],\n",
       "       [13, 14, 15, 16, 17, 18],\n",
       "       [19, 20, 21, 22, 23, 24],\n",
       "       [25, 26, 27, 28, 29, 30],\n",
       "       [31, 32, 33, 34, 35, 36]])"
      ]
     },
     "execution_count": 34,
     "metadata": {},
     "output_type": "execute_result"
    }
   ],
   "source": [
    "# Create a 6×6 matrix with numbers 1 to 36.\n",
    "matrix = np.array([1, 2, 3, 4, 5, 6, 7, 8, 9, 10, 11, 12, 13, 14, 15, 16, 17, 18, 19, 20, 21, 22, 23, 24, 25, 26, 27, 28, 29, 30, 31, 32, 33, 34, 35, 36]).reshape(6, 6)\n",
    "matrix"
   ]
  },
  {
   "cell_type": "code",
   "execution_count": 35,
   "id": "97a0403a-9381-4a4c-8893-112564007625",
   "metadata": {},
   "outputs": [
    {
     "data": {
      "text/plain": [
       "array([[ 8,  9, 10, 11],\n",
       "       [14, 15, 16, 17],\n",
       "       [20, 21, 22, 23],\n",
       "       [26, 27, 28, 29]])"
      ]
     },
     "execution_count": 35,
     "metadata": {},
     "output_type": "execute_result"
    }
   ],
   "source": [
    "# Extract the 4×4 submatrix in the center.\n",
    "submatrix = matrix[1:5, 1:5]\n",
    "submatrix"
   ]
  },
  {
   "cell_type": "code",
   "execution_count": 36,
   "id": "aed75a2c-953c-4e9f-95fb-ac08dca3aec5",
   "metadata": {},
   "outputs": [
    {
     "data": {
      "text/plain": [
       "array([[ 8, 14, 20, 26],\n",
       "       [ 9, 15, 21, 27],\n",
       "       [10, 16, 22, 28],\n",
       "       [11, 17, 23, 29]])"
      ]
     },
     "execution_count": 36,
     "metadata": {},
     "output_type": "execute_result"
    }
   ],
   "source": [
    "# Transpose this submatrix.\n",
    "submatrix.T"
   ]
  },
  {
   "cell_type": "code",
   "execution_count": 38,
   "id": "d294eb1c-2a2c-4811-8cd9-bf17a543e342",
   "metadata": {},
   "outputs": [
    {
     "name": "stdout",
     "output_type": "stream",
     "text": [
      "Number of Heads: 483\n"
     ]
    }
   ],
   "source": [
    "# Simulate 1000 coin flips (H or T) using NumPy. Count how many H you got.\n",
    "flips = np.random.choice(['H', 'T'], size=1000)\n",
    "num_heads = np.count_nonzero(flips == 'H')\n",
    "print(f\"Number of Heads: {num_heads}\")"
   ]
  }
 ],
 "metadata": {
  "kernelspec": {
   "display_name": "Python 3 (ipykernel)",
   "language": "python",
   "name": "python3"
  },
  "language_info": {
   "codemirror_mode": {
    "name": "ipython",
    "version": 3
   },
   "file_extension": ".py",
   "mimetype": "text/x-python",
   "name": "python",
   "nbconvert_exporter": "python",
   "pygments_lexer": "ipython3",
   "version": "3.12.7"
  }
 },
 "nbformat": 4,
 "nbformat_minor": 5
}
