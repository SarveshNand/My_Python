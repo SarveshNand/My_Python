{
 "cells": [
  {
   "cell_type": "code",
   "execution_count": 1,
   "id": "fa6d27c8-0686-4dcf-aff5-2d5398063581",
   "metadata": {},
   "outputs": [],
   "source": [
    "import numpy as np"
   ]
  },
  {
   "cell_type": "markdown",
   "id": "5159d035-12ce-48ca-a6f6-9126a72f385c",
   "metadata": {},
   "source": [
    "**Level 1: Basics**"
   ]
  },
  {
   "cell_type": "code",
   "execution_count": 2,
   "id": "3d9539e0-9e0c-4043-bd87-05cf0997ae0f",
   "metadata": {},
   "outputs": [
    {
     "data": {
      "text/plain": [
       "array([ 1,  2,  3,  4,  5,  6,  7,  8,  9, 10, 11, 12, 13, 14, 15, 16, 17,\n",
       "       18, 19, 20])"
      ]
     },
     "execution_count": 2,
     "metadata": {},
     "output_type": "execute_result"
    }
   ],
   "source": [
    "# Create a NumPy array of numbers from 1 to 20.\n",
    "arr = np.arange(1, 21)\n",
    "arr"
   ]
  },
  {
   "cell_type": "code",
   "execution_count": 3,
   "id": "97ea8972-8d11-4c87-88f1-f7a3a810251b",
   "metadata": {},
   "outputs": [
    {
     "data": {
      "text/plain": [
       "array([[0, 1, 2],\n",
       "       [3, 4, 5],\n",
       "       [6, 7, 8]])"
      ]
     },
     "execution_count": 3,
     "metadata": {},
     "output_type": "execute_result"
    }
   ],
   "source": [
    "# Create a 3×3 matrix with values ranging from 0 to 8.\n",
    "arr2 = np.arange(0, 9).reshape(3, 3)\n",
    "arr2"
   ]
  },
  {
   "cell_type": "code",
   "execution_count": 4,
   "id": "bf21c62b-810b-4d33-8ea7-08eed6f814ac",
   "metadata": {},
   "outputs": [
    {
     "name": "stdout",
     "output_type": "stream",
     "text": [
      "[0. 0. 0. 0. 0. 0. 0. 0. 0. 0.] [1. 1. 1. 1. 1. 1. 1. 1. 1. 1.]\n"
     ]
    }
   ],
   "source": [
    "# Generate an array of 10 zeros and another of 10 ones.\n",
    "arr3 = np.zeros(10)\n",
    "arr4 = np.ones(10)\n",
    "print(arr3, arr4)"
   ]
  },
  {
   "cell_type": "code",
   "execution_count": 5,
   "id": "8e3fc538-8fde-460e-a594-83ab5290845b",
   "metadata": {},
   "outputs": [
    {
     "data": {
      "text/plain": [
       "array([0.93640977, 0.05772917, 0.92073008, 0.9514153 , 0.90636858])"
      ]
     },
     "execution_count": 5,
     "metadata": {},
     "output_type": "execute_result"
    }
   ],
   "source": [
    "# Create a random float array of size 5 between 0 and 1.\n",
    "arr5 = np.random.ranf(5)\n",
    "arr5"
   ]
  },
  {
   "cell_type": "markdown",
   "id": "a5924785-a596-4953-a924-68286f5e6ebd",
   "metadata": {},
   "source": [
    "**Level 2: Array Operations**"
   ]
  },
  {
   "cell_type": "code",
   "execution_count": 6,
   "id": "e24bc0ca-31e1-40ea-b91d-2b576da592f5",
   "metadata": {},
   "outputs": [
    {
     "data": {
      "text/plain": [
       "[1, 4, 9, 16, 25]"
      ]
     },
     "execution_count": 6,
     "metadata": {},
     "output_type": "execute_result"
    }
   ],
   "source": [
    "# Given an array [1,2,3,4,5], square every element.\n",
    "arr6 = [1,2,3,4,5]\n",
    "arr7 = [i ** 2 for i in arr6]\n",
    "arr7"
   ]
  },
  {
   "cell_type": "code",
   "execution_count": 7,
   "id": "74c6b173-22f2-450c-97a0-ee68603a957f",
   "metadata": {},
   "outputs": [
    {
     "data": {
      "text/plain": [
       "array([[1., 0., 0., 0., 0.],\n",
       "       [0., 1., 0., 0., 0.],\n",
       "       [0., 0., 1., 0., 0.],\n",
       "       [0., 0., 0., 1., 0.],\n",
       "       [0., 0., 0., 0., 1.]])"
      ]
     },
     "execution_count": 7,
     "metadata": {},
     "output_type": "execute_result"
    }
   ],
   "source": [
    "# Create a 5×5 identity matrix.\n",
    "I = np.eye(5)\n",
    "I"
   ]
  },
  {
   "cell_type": "code",
   "execution_count": 15,
   "id": "aa10bd0e-d146-4e97-93e7-1a0ffcb66d56",
   "metadata": {},
   "outputs": [
    {
     "data": {
      "text/plain": [
       "array([ 2,  4,  6,  8, 10, 12, 14, 16, 18, 20, 22, 24, 26, 28, 30])"
      ]
     },
     "execution_count": 15,
     "metadata": {},
     "output_type": "execute_result"
    }
   ],
   "source": [
    "# Extract all even numbers from an array of 1–30.\n",
    "arr8 = np.arange(1, 31)\n",
    "even_numbers = arr8[arr8 % 2 == 0]\n",
    "even_numbers"
   ]
  },
  {
   "cell_type": "code",
   "execution_count": 17,
   "id": "e8d7e496-8373-49cb-952e-72113311bae2",
   "metadata": {},
   "outputs": [
    {
     "data": {
      "text/plain": [
       "array([-1,  2, -1,  4, -1,  6, -1,  8, -1, 10, -1, 12, -1, 14, -1, 16, -1,\n",
       "       18, -1, 20])"
      ]
     },
     "execution_count": 17,
     "metadata": {},
     "output_type": "execute_result"
    }
   ],
   "source": [
    "# Replace all odd numbers in an array of 1–20 with -1.\n",
    "arr9 = np.arange(1, 21)\n",
    "arr9[arr9 % 2 != 0] = -1\n",
    "arr9"
   ]
  },
  {
   "cell_type": "markdown",
   "id": "936030c6-fd7a-4b39-abdd-89a87ed37ac2",
   "metadata": {},
   "source": [
    "**Level 3: Statistics & Math**"
   ]
  },
  {
   "cell_type": "code",
   "execution_count": 27,
   "id": "faa650d0-2818-4b15-aa71-140ebf8b3e94",
   "metadata": {},
   "outputs": [
    {
     "name": "stdout",
     "output_type": "stream",
     "text": [
      "Mean: 0.5209890959867436\n",
      "Median: 0.5251890432567905\n",
      "Standard Deviation: 0.2823496603474825\n"
     ]
    }
   ],
   "source": [
    "# Generate an array of 100 random numbers and find its mean, median, and standard deviation.\n",
    "arr10 = np.random.rand(100)\n",
    "mean = np.mean(arr10)\n",
    "median = np.median(arr10)\n",
    "std_dev = np.std(arr10)\n",
    "\n",
    "print(f\"Mean: {mean}\")\n",
    "print(f\"Median: {median}\")\n",
    "print(f\"Standard Deviation: {std_dev}\")"
   ]
  },
  {
   "cell_type": "code",
   "execution_count": 39,
   "id": "8f21e2fe-180e-49e3-95f2-db63b3482b3a",
   "metadata": {},
   "outputs": [
    {
     "name": "stdout",
     "output_type": "stream",
     "text": [
      "Matrix:\n",
      "[[73 92 26 84]\n",
      " [56 73  2 43]\n",
      " [52  4 60 97]\n",
      " [47 77  6 51]]\n",
      "\n",
      "Maximum value in each row:\n",
      "[92 73 97 77]\n"
     ]
    }
   ],
   "source": [
    "# Create a 4×4 matrix of random integers (1–100). Find the maximum value in each row.\n",
    "matrix = np.random.randint(1, 101, size=(4, 4))\n",
    "row_max = np.max(matrix, axis=1)\n",
    "\n",
    "print(\"Matrix:\")\n",
    "print(matrix)\n",
    "print(\"\\nMaximum value in each row:\")\n",
    "print(row_max)"
   ]
  },
  {
   "cell_type": "markdown",
   "id": "fdb52082-597b-440b-9177-1b1775ed5e5c",
   "metadata": {},
   "source": [
    "**Level 4: Data Science-Oriented**"
   ]
  },
  {
   "cell_type": "code",
   "execution_count": 41,
   "id": "231bca76-7d63-4aee-b295-35266afac2a1",
   "metadata": {},
   "outputs": [
    {
     "name": "stdout",
     "output_type": "stream",
     "text": [
      "Exam Scores (Students × Subjects):\n",
      "[[63  7 87]\n",
      " [75 54 36]\n",
      " [60 53 81]\n",
      " [88  9 49]\n",
      " [87 10  0]]\n",
      "\n",
      "Average Score of Each Student:\n",
      "[52.33333333 55.         64.66666667 48.66666667 32.33333333]\n"
     ]
    }
   ],
   "source": [
    "# Create a 2D NumPy array representing exam scores of 5 students in 3 subjects. Find the average score of each student.\n",
    "scores = np.random.randint(0, 101, size=(5, 3))\n",
    "student_averages = np.mean(scores, axis=1)\n",
    "print(\"Exam Scores (Students × Subjects):\")\n",
    "print(scores)\n",
    "print(\"\\nAverage Score of Each Student:\")\n",
    "print(student_averages)"
   ]
  },
  {
   "cell_type": "code",
   "execution_count": 43,
   "id": "86f694c1-d713-46f1-8f13-11dbb021645e",
   "metadata": {},
   "outputs": [
    {
     "name": "stdout",
     "output_type": "stream",
     "text": [
      "Original data:  [10 20 30 40 50]\n",
      "Standardized (z-scores):  [-1.41421356 -0.70710678  0.          0.70710678  1.41421356]\n"
     ]
    }
   ],
   "source": [
    "# Standardize (z-score normalize) a NumPy array of 1D data.\n",
    "data = np.array([10, 20, 30, 40, 50])\n",
    "mean = np.mean(data)\n",
    "std = np.std(data)\n",
    "z_scores = (data - mean) / std\n",
    "print(\"Original data: \", data)\n",
    "print(\"Standardized (z-scores): \", z_scores)"
   ]
  },
  {
   "cell_type": "code",
   "execution_count": 46,
   "id": "d95d4a1a-dd88-4743-ae11-8c1298ad9d60",
   "metadata": {},
   "outputs": [
    {
     "data": {
      "text/plain": [
       "array([12, 23, 34, 45, 64, 77])"
      ]
     },
     "execution_count": 46,
     "metadata": {},
     "output_type": "execute_result"
    }
   ],
   "source": [
    "# Flatten a 3D array into 1D.\n",
    "arr12 = np.array([[[12, 23], [34, 45], [64, 77]]])\n",
    "arr12.flatten()"
   ]
  },
  {
   "cell_type": "code",
   "execution_count": 48,
   "id": "9138f003-bf1e-4619-b8bc-25e681cb388a",
   "metadata": {},
   "outputs": [
    {
     "data": {
      "text/plain": [
       "array([[ 1,  5,  9],\n",
       "       [ 2,  6, 10],\n",
       "       [ 3,  7, 11],\n",
       "       [ 4,  8, 12]])"
      ]
     },
     "execution_count": 48,
     "metadata": {},
     "output_type": "execute_result"
    }
   ],
   "source": [
    "# Reshape a 1D array of 12 numbers into a 3×4 matrix and then transpose it.\n",
    "arr13 = np.array([1, 2, 3, 4, 5, 6, 7, 8, 9, 10, 11, 12]).reshape(3, 4).T\n",
    "arr13"
   ]
  },
  {
   "cell_type": "markdown",
   "id": "df492154-de98-4dfc-99ca-dc5e6a025966",
   "metadata": {},
   "source": [
    "**Level 5: Challenge**"
   ]
  },
  {
   "cell_type": "code",
   "execution_count": 49,
   "id": "13c80ac6-235a-4640-be30-94430cb7630d",
   "metadata": {},
   "outputs": [
    {
     "name": "stdout",
     "output_type": "stream",
     "text": [
      "[[1 1 1 1 1 1 1 1 1 1]\n",
      " [1 0 0 0 0 0 0 0 0 1]\n",
      " [1 0 0 0 0 0 0 0 0 1]\n",
      " [1 0 0 0 0 0 0 0 0 1]\n",
      " [1 0 0 0 0 0 0 0 0 1]\n",
      " [1 0 0 0 0 0 0 0 0 1]\n",
      " [1 0 0 0 0 0 0 0 0 1]\n",
      " [1 0 0 0 0 0 0 0 0 1]\n",
      " [1 0 0 0 0 0 0 0 0 1]\n",
      " [1 1 1 1 1 1 1 1 1 1]]\n"
     ]
    }
   ],
   "source": [
    "# Create a 10×10 matrix where the border elements are 1 and the inside is 0.\n",
    "matrix = np.ones((10, 10), dtype=int)\n",
    "matrix[1:-1, 1:-1] = 0\n",
    "print(matrix)"
   ]
  },
  {
   "cell_type": "code",
   "execution_count": 51,
   "id": "78636d26-533e-4a9d-8f6b-3a1cc594d721",
   "metadata": {},
   "outputs": [
    {
     "data": {
      "text/plain": [
       "array([4])"
      ]
     },
     "execution_count": 51,
     "metadata": {},
     "output_type": "execute_result"
    }
   ],
   "source": [
    "# Given two arrays a and b, find all elements that are common.\n",
    "a = [1, 2, 3, 4]\n",
    "b = [4, 5, 6, 7]\n",
    "c = np.intersect1d(a, b)\n",
    "c"
   ]
  },
  {
   "cell_type": "code",
   "execution_count": 55,
   "id": "c1e8e08c-eb7e-46dd-8b41-cab8b9aaf827",
   "metadata": {},
   "outputs": [
    {
     "name": "stdout",
     "output_type": "stream",
     "text": [
      "Number of Heads: 494\n"
     ]
    }
   ],
   "source": [
    "# Simulate 1000 coin flips using np.random.choice and count how many times you got heads.\n",
    "coin_flips = np.random.choice(['Heads', 'Tails'], size=1000)\n",
    "heads_count = np.sum(coin_flips == 'Heads')\n",
    "print(f\"Number of Heads: {heads_count}\")"
   ]
  },
  {
   "cell_type": "code",
   "execution_count": 58,
   "id": "5271d8d0-b224-4c83-ad94-53342275d9c4",
   "metadata": {},
   "outputs": [
    {
     "data": {
      "text/plain": [
       "array([[ 8,  9, 10, 11],\n",
       "       [14, 15, 16, 17],\n",
       "       [20, 21, 22, 23],\n",
       "       [26, 27, 28, 29]])"
      ]
     },
     "execution_count": 58,
     "metadata": {},
     "output_type": "execute_result"
    }
   ],
   "source": [
    "# Create a matrix of shape (6,6) with values 1–36 and extract the submatrix in the center (4×4 block).\n",
    "matrix = np.array([1, 2, 3, 4, 5, 6, 7, 8, 9, 10, 11, 12, 13, 14, 15, 16, 17, 18, 19, 20, 21, 22, 23, 24, 25, 26, 27, 28, 29, 30, 31, 32, 33, 34, 35, 36]).reshape(6, 6)\n",
    "submatrix = matrix[1:5, 1:5]\n",
    "submatrix"
   ]
  }
 ],
 "metadata": {
  "kernelspec": {
   "display_name": "Python 3 (ipykernel)",
   "language": "python",
   "name": "python3"
  },
  "language_info": {
   "codemirror_mode": {
    "name": "ipython",
    "version": 3
   },
   "file_extension": ".py",
   "mimetype": "text/x-python",
   "name": "python",
   "nbconvert_exporter": "python",
   "pygments_lexer": "ipython3",
   "version": "3.12.7"
  }
 },
 "nbformat": 4,
 "nbformat_minor": 5
}
