{
 "cells": [
  {
   "cell_type": "code",
   "execution_count": 1,
   "id": "463ddc07-6e53-4f1e-848d-0de280464ee5",
   "metadata": {},
   "outputs": [],
   "source": [
    "import numpy as np"
   ]
  },
  {
   "cell_type": "code",
   "execution_count": 2,
   "id": "47ff906c-4dc5-4a5f-887f-28950863472d",
   "metadata": {},
   "outputs": [
    {
     "data": {
      "text/plain": [
       "68.3"
      ]
     },
     "execution_count": 2,
     "metadata": {},
     "output_type": "execute_result"
    }
   ],
   "source": [
    "# Create a NumPy array of 10 random integers between 1 and 100. Find its mean.\n",
    "array = np.random.randint(1, 101, size=10)\n",
    "mean = np.mean(array)\n",
    "mean"
   ]
  },
  {
   "cell_type": "code",
   "execution_count": 3,
   "id": "e55c7088-cc30-40c9-bc6e-27e67c5ef131",
   "metadata": {},
   "outputs": [
    {
     "data": {
      "text/plain": [
       "7.5"
      ]
     },
     "execution_count": 3,
     "metadata": {},
     "output_type": "execute_result"
    }
   ],
   "source": [
    "# Calculate the median of the array: [10, 5, 8, 12, 3, 7].\n",
    "array = [10, 5, 8, 12, 3, 7]\n",
    "median = np.median(array)\n",
    "median"
   ]
  },
  {
   "cell_type": "code",
   "execution_count": 4,
   "id": "f39c527d-4c3d-4161-8804-c8520dcc084b",
   "metadata": {},
   "outputs": [
    {
     "data": {
      "text/plain": [
       "12.336756281760435"
      ]
     },
     "execution_count": 4,
     "metadata": {},
     "output_type": "execute_result"
    }
   ],
   "source": [
    "# Generate an array of 15 random numbers between 1 and 50. Find its standard deviation.\n",
    "array = np.random.randint(1, 51, size=15)\n",
    "std_dev = np.std(array)\n",
    "std_dev"
   ]
  },
  {
   "cell_type": "code",
   "execution_count": 5,
   "id": "99e6e58f-f821-493c-bab7-7c081eca9eea",
   "metadata": {},
   "outputs": [
    {
     "data": {
      "text/plain": [
       "array([2., 5., 8.])"
      ]
     },
     "execution_count": 5,
     "metadata": {},
     "output_type": "execute_result"
    }
   ],
   "source": [
    "# Create a 3x3 array with values from 1 to 9. Find the row-wise mean.\n",
    "array = np.array([1, 2, 3, 4, 5, 6, 7, 8, 9]).reshape(3, 3)\n",
    "row_mean = np.mean(array, axis=1)\n",
    "row_mean"
   ]
  },
  {
   "cell_type": "code",
   "execution_count": 6,
   "id": "04caa5b0-0ef1-4ab5-a325-8c6293d9d76e",
   "metadata": {},
   "outputs": [
    {
     "name": "stdout",
     "output_type": "stream",
     "text": [
      "Mean:  8.0\n",
      "Median:  8.0\n",
      "Standard Deviation:  2.8284271247461903\n"
     ]
    }
   ],
   "source": [
    "# For the array [4, 6, 8, 10, 12], calculate mean, median, std.\n",
    "array = [4, 6, 8, 10, 12]\n",
    "mean = np.mean(array)\n",
    "median = np.median(array)\n",
    "std_dev = np.std(array)\n",
    "\n",
    "print(\"Mean: \", mean)\n",
    "print(\"Median: \", median)\n",
    "print(\"Standard Deviation: \", std_dev)"
   ]
  },
  {
   "cell_type": "code",
   "execution_count": 7,
   "id": "a0aa18e7-8522-486c-a0c5-ba42a9306120",
   "metadata": {},
   "outputs": [
    {
     "data": {
      "text/plain": [
       "43.96"
      ]
     },
     "execution_count": 7,
     "metadata": {},
     "output_type": "execute_result"
    }
   ],
   "source": [
    "# Generate a 5x5 NumPy array of random integers (0 to 100). Find the overall mean.\n",
    "array = np.random.randint(0, 101, size=(5, 5))\n",
    "mean = np.mean(array)\n",
    "mean"
   ]
  },
  {
   "cell_type": "code",
   "execution_count": 8,
   "id": "85ddba38-d31b-4f1d-a703-865dfdc60ae0",
   "metadata": {},
   "outputs": [
    {
     "data": {
      "text/plain": [
       "12.989611233597408"
      ]
     },
     "execution_count": 8,
     "metadata": {},
     "output_type": "execute_result"
    }
   ],
   "source": [
    "# Create an array of 50 random integers and calculate the standard deviation.\n",
    "array = np.random.randint(1, 51, size=50)\n",
    "std_dev = np.std(array)\n",
    "std_dev"
   ]
  },
  {
   "cell_type": "code",
   "execution_count": 9,
   "id": "c50949df-55be-472a-811f-2ac23cc042e9",
   "metadata": {},
   "outputs": [
    {
     "data": {
      "text/plain": [
       "(array([0, 1, 4], dtype=int64),)"
      ]
     },
     "execution_count": 9,
     "metadata": {},
     "output_type": "execute_result"
    }
   ],
   "source": [
    "# Find indices of non-zero elements from [1,2,0,0,4,0]\n",
    "array = np.array([1, 2, 0, 0, 4, 0])\n",
    "non_zero_indices = np.nonzero(array)\n",
    "non_zero_indices"
   ]
  },
  {
   "cell_type": "code",
   "execution_count": 10,
   "id": "c1951177-2417-4cfd-a3ec-61e43cb7703b",
   "metadata": {},
   "outputs": [
    {
     "data": {
      "text/plain": [
       "array([[7, 4]])"
      ]
     },
     "execution_count": 10,
     "metadata": {},
     "output_type": "execute_result"
    }
   ],
   "source": [
    "# You have an 2D array, print array element [[7,4]]:\n",
    "# [[2,3,4\n",
    "# 5,7,4\n",
    "# 8,9,0]]\n",
    "\n",
    "array = np.array([[2, 3, 4], [5, 7, 4], [8, 9, 0]])\n",
    "sub_array = array[1:2, 1:]\n",
    "sub_array"
   ]
  },
  {
   "cell_type": "code",
   "execution_count": 12,
   "id": "33284d92-fbfd-4d8b-a867-3d312ae20daf",
   "metadata": {},
   "outputs": [
    {
     "data": {
      "text/plain": [
       "array([[ 50,  68],\n",
       "       [122, 167]])"
      ]
     },
     "execution_count": 12,
     "metadata": {},
     "output_type": "execute_result"
    }
   ],
   "source": [
    "# Create 2 array of 2-Dimension and then perform matrix multiplication on them.\n",
    "arr1 = np.array([[1, 2, 3], [4, 5, 6]]).reshape(2, 3)\n",
    "arr2 = np.array([[7, 8, 9], [10, 11, 12]]).reshape(2, 3)\n",
    "arr2_T = arr2.T\n",
    "matrix_mul = np.dot(arr1, arr2_T)\n",
    "matrix_mul"
   ]
  }
 ],
 "metadata": {
  "kernelspec": {
   "display_name": "Python 3 (ipykernel)",
   "language": "python",
   "name": "python3"
  },
  "language_info": {
   "codemirror_mode": {
    "name": "ipython",
    "version": 3
   },
   "file_extension": ".py",
   "mimetype": "text/x-python",
   "name": "python",
   "nbconvert_exporter": "python",
   "pygments_lexer": "ipython3",
   "version": "3.12.7"
  }
 },
 "nbformat": 4,
 "nbformat_minor": 5
}
