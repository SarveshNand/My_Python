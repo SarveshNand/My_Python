{
 "cells": [
  {
   "cell_type": "code",
   "execution_count": 1,
   "id": "c34ad224-e763-4c09-aff2-65cc8c6f2a3d",
   "metadata": {},
   "outputs": [],
   "source": [
    "import numpy as np\n",
    "import pandas as pd"
   ]
  },
  {
   "cell_type": "markdown",
   "id": "f0e43410-6631-472d-aa41-42cfb9427f35",
   "metadata": {},
   "source": [
    "**GroupBy**"
   ]
  },
  {
   "cell_type": "code",
   "execution_count": 5,
   "id": "93cc6114-261d-43eb-8708-d1511f5a282f",
   "metadata": {},
   "outputs": [],
   "source": [
    "data = {\n",
    "    'Category': ['A', 'B', 'A', 'B', 'A', 'B', 'A', 'B'],\n",
    "    'Store': ['S1', 'S1', 'S2', 'S2', 'S1', 'S2', 'S2', 'S1'],\n",
    "    'Sales': [100, 200, 150, 250, 120, 180, 200, 300],\n",
    "    'Quantity': [10, 15, 12, 18, 8, 20, 15, 25],\n",
    "    'Date': pd.date_range('2023-01-01', periods=8)\n",
    "}\n",
    "df = pd.DataFrame(data)"
   ]
  },
  {
   "cell_type": "code",
   "execution_count": 6,
   "id": "44a8a7e6-0457-4a04-a39c-bd655c2a8f99",
   "metadata": {},
   "outputs": [
    {
     "data": {
      "text/html": [
       "<div>\n",
       "<style scoped>\n",
       "    .dataframe tbody tr th:only-of-type {\n",
       "        vertical-align: middle;\n",
       "    }\n",
       "\n",
       "    .dataframe tbody tr th {\n",
       "        vertical-align: top;\n",
       "    }\n",
       "\n",
       "    .dataframe thead th {\n",
       "        text-align: right;\n",
       "    }\n",
       "</style>\n",
       "<table border=\"1\" class=\"dataframe\">\n",
       "  <thead>\n",
       "    <tr style=\"text-align: right;\">\n",
       "      <th></th>\n",
       "      <th>Category</th>\n",
       "      <th>Store</th>\n",
       "      <th>Sales</th>\n",
       "      <th>Quantity</th>\n",
       "      <th>Date</th>\n",
       "    </tr>\n",
       "  </thead>\n",
       "  <tbody>\n",
       "    <tr>\n",
       "      <th>0</th>\n",
       "      <td>A</td>\n",
       "      <td>S1</td>\n",
       "      <td>100</td>\n",
       "      <td>10</td>\n",
       "      <td>2023-01-01</td>\n",
       "    </tr>\n",
       "    <tr>\n",
       "      <th>1</th>\n",
       "      <td>B</td>\n",
       "      <td>S1</td>\n",
       "      <td>200</td>\n",
       "      <td>15</td>\n",
       "      <td>2023-01-02</td>\n",
       "    </tr>\n",
       "    <tr>\n",
       "      <th>2</th>\n",
       "      <td>A</td>\n",
       "      <td>S2</td>\n",
       "      <td>150</td>\n",
       "      <td>12</td>\n",
       "      <td>2023-01-03</td>\n",
       "    </tr>\n",
       "    <tr>\n",
       "      <th>3</th>\n",
       "      <td>B</td>\n",
       "      <td>S2</td>\n",
       "      <td>250</td>\n",
       "      <td>18</td>\n",
       "      <td>2023-01-04</td>\n",
       "    </tr>\n",
       "    <tr>\n",
       "      <th>4</th>\n",
       "      <td>A</td>\n",
       "      <td>S1</td>\n",
       "      <td>120</td>\n",
       "      <td>8</td>\n",
       "      <td>2023-01-05</td>\n",
       "    </tr>\n",
       "    <tr>\n",
       "      <th>5</th>\n",
       "      <td>B</td>\n",
       "      <td>S2</td>\n",
       "      <td>180</td>\n",
       "      <td>20</td>\n",
       "      <td>2023-01-06</td>\n",
       "    </tr>\n",
       "    <tr>\n",
       "      <th>6</th>\n",
       "      <td>A</td>\n",
       "      <td>S2</td>\n",
       "      <td>200</td>\n",
       "      <td>15</td>\n",
       "      <td>2023-01-07</td>\n",
       "    </tr>\n",
       "    <tr>\n",
       "      <th>7</th>\n",
       "      <td>B</td>\n",
       "      <td>S1</td>\n",
       "      <td>300</td>\n",
       "      <td>25</td>\n",
       "      <td>2023-01-08</td>\n",
       "    </tr>\n",
       "  </tbody>\n",
       "</table>\n",
       "</div>"
      ],
      "text/plain": [
       "  Category Store  Sales  Quantity       Date\n",
       "0        A    S1    100        10 2023-01-01\n",
       "1        B    S1    200        15 2023-01-02\n",
       "2        A    S2    150        12 2023-01-03\n",
       "3        B    S2    250        18 2023-01-04\n",
       "4        A    S1    120         8 2023-01-05\n",
       "5        B    S2    180        20 2023-01-06\n",
       "6        A    S2    200        15 2023-01-07\n",
       "7        B    S1    300        25 2023-01-08"
      ]
     },
     "execution_count": 6,
     "metadata": {},
     "output_type": "execute_result"
    }
   ],
   "source": [
    "df"
   ]
  },
  {
   "cell_type": "code",
   "execution_count": 8,
   "id": "a37aa7cc-f9f6-4170-a05a-03cdde9c2580",
   "metadata": {},
   "outputs": [
    {
     "data": {
      "text/plain": [
       "Category\n",
       "A    570\n",
       "B    930\n",
       "Name: Sales, dtype: int64"
      ]
     },
     "execution_count": 8,
     "metadata": {},
     "output_type": "execute_result"
    }
   ],
   "source": [
    "# Group by category and calculate the sum of Sales\n",
    "cat = df.groupby('Category')['Sales'].sum()\n",
    "cat"
   ]
  },
  {
   "cell_type": "code",
   "execution_count": 9,
   "id": "64ad6669-cc4b-4ee9-8ba8-8ab7efab9888",
   "metadata": {},
   "outputs": [
    {
     "data": {
      "text/plain": [
       "Store\n",
       "S1    720\n",
       "S2    780\n",
       "Name: Sales, dtype: int64"
      ]
     },
     "execution_count": 9,
     "metadata": {},
     "output_type": "execute_result"
    }
   ],
   "source": [
    "# Group by Store and calculate the sum of Sales\n",
    "cat = df.groupby('Store')['Sales'].sum()\n",
    "cat"
   ]
  },
  {
   "cell_type": "code",
   "execution_count": 10,
   "id": "d2f08f94-4277-47a9-9ac3-54051148ea12",
   "metadata": {},
   "outputs": [
    {
     "data": {
      "text/plain": [
       "Category  Store\n",
       "A         S1       220\n",
       "          S2       350\n",
       "B         S1       500\n",
       "          S2       430\n",
       "Name: Sales, dtype: int64"
      ]
     },
     "execution_count": 10,
     "metadata": {},
     "output_type": "execute_result"
    }
   ],
   "source": [
    "# Group by multiple columns\n",
    "# Group by Category and Store\n",
    "cat = df.groupby(['Category', 'Store'])['Sales'].sum()\n",
    "cat"
   ]
  },
  {
   "cell_type": "markdown",
   "id": "1d278192-cc66-4622-8feb-9083219b4ff5",
   "metadata": {},
   "source": [
    "**Aggregation**"
   ]
  },
  {
   "cell_type": "code",
   "execution_count": 16,
   "id": "2e82649a-8146-4957-879c-b7cba782a131",
   "metadata": {},
   "outputs": [
    {
     "data": {
      "text/plain": [
       "187.5"
      ]
     },
     "execution_count": 16,
     "metadata": {},
     "output_type": "execute_result"
    }
   ],
   "source": [
    "'''mean, median, min, max, count, std, etc'''\n",
    "df['Sales'].mean()"
   ]
  },
  {
   "cell_type": "code",
   "execution_count": 17,
   "id": "cdce3a8f-452d-4537-8444-06653c7b4b86",
   "metadata": {},
   "outputs": [
    {
     "data": {
      "text/plain": [
       "mean    187.5\n",
       "min     100.0\n",
       "max     300.0\n",
       "Name: Sales, dtype: float64"
      ]
     },
     "execution_count": 17,
     "metadata": {},
     "output_type": "execute_result"
    }
   ],
   "source": [
    "df['Sales'].aggregate(['mean', 'min', 'max'])"
   ]
  }
 ],
 "metadata": {
  "kernelspec": {
   "display_name": "Python 3 (ipykernel)",
   "language": "python",
   "name": "python3"
  },
  "language_info": {
   "codemirror_mode": {
    "name": "ipython",
    "version": 3
   },
   "file_extension": ".py",
   "mimetype": "text/x-python",
   "name": "python",
   "nbconvert_exporter": "python",
   "pygments_lexer": "ipython3",
   "version": "3.12.7"
  }
 },
 "nbformat": 4,
 "nbformat_minor": 5
}
