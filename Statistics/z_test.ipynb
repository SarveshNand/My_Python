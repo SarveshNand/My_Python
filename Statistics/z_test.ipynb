{
 "cells": [
  {
   "cell_type": "code",
   "execution_count": 1,
   "id": "30baae8f-1f56-4fd8-ba1b-92935c1a6109",
   "metadata": {},
   "outputs": [],
   "source": [
    "import numpy as np\n",
    "from scipy.stats import norm"
   ]
  },
  {
   "cell_type": "code",
   "execution_count": 12,
   "id": "7a053476-aea4-4ea3-b06b-2cb76d000533",
   "metadata": {},
   "outputs": [],
   "source": [
    "sample = np.random.randint(160, 181, size=30)\n",
    "population_mean = 170\n",
    "population_std = 3\n",
    "samp_mean = np.mean(sample)\n",
    "n = len(sample)"
   ]
  },
  {
   "cell_type": "code",
   "execution_count": 13,
   "id": "3f35434b-bdf9-4b33-b6dc-a5f1b9b59bfa",
   "metadata": {},
   "outputs": [
    {
     "data": {
      "text/plain": [
       "-0.182574185835045"
      ]
     },
     "execution_count": 13,
     "metadata": {},
     "output_type": "execute_result"
    }
   ],
   "source": [
    "z_score = (samp_mean - population_mean) / (population_std / np.sqrt(n))\n",
    "z_score"
   ]
  },
  {
   "cell_type": "code",
   "execution_count": 14,
   "id": "3a4f9c05-c41f-4b18-813a-35a9c793268b",
   "metadata": {},
   "outputs": [],
   "source": [
    "p_value = 2 * (1 - norm.cdf(abs(z_score)))"
   ]
  },
  {
   "cell_type": "code",
   "execution_count": 15,
   "id": "22eb52aa-9b17-410e-b06d-df037dbd36e4",
   "metadata": {},
   "outputs": [
    {
     "data": {
      "text/plain": [
       "0.8551321405847141"
      ]
     },
     "execution_count": 15,
     "metadata": {},
     "output_type": "execute_result"
    }
   ],
   "source": [
    "p_value"
   ]
  },
  {
   "cell_type": "code",
   "execution_count": 16,
   "id": "3056bfca-0395-4eee-9f7e-d312d0d16a41",
   "metadata": {},
   "outputs": [
    {
     "name": "stdout",
     "output_type": "stream",
     "text": [
      "I will accept the null hypothesis\n"
     ]
    }
   ],
   "source": [
    "alpha = 0.05\n",
    "\n",
    "if p_value < alpha:\n",
    "    print(\"I will reject the null hypothesis\")\n",
    "else:\n",
    "    print(\"I will accept the null hypothesis\")"
   ]
  }
 ],
 "metadata": {
  "kernelspec": {
   "display_name": "Python 3 (ipykernel)",
   "language": "python",
   "name": "python3"
  },
  "language_info": {
   "codemirror_mode": {
    "name": "ipython",
    "version": 3
   },
   "file_extension": ".py",
   "mimetype": "text/x-python",
   "name": "python",
   "nbconvert_exporter": "python",
   "pygments_lexer": "ipython3",
   "version": "3.12.7"
  }
 },
 "nbformat": 4,
 "nbformat_minor": 5
}
