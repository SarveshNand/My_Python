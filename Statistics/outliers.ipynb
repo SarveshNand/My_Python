{
 "cells": [
  {
   "cell_type": "code",
   "execution_count": 1,
   "id": "cc062768-d4b8-4e5f-8547-c5f810386108",
   "metadata": {},
   "outputs": [
    {
     "data": {
      "text/plain": [
       "array([  2,   3,   4,   6,   7,   8,   9,  12,  13,  16,  17,  23,  25,\n",
       "        27,  34,  37, 201])"
      ]
     },
     "execution_count": 1,
     "metadata": {},
     "output_type": "execute_result"
    }
   ],
   "source": [
    "import numpy as np\n",
    "arr = np.array([2, 3, 4, 6, 7, 8, 9, 12, 13, 16, 17, 23, 25, 27, 34, 37, 201])\n",
    "arr"
   ]
  },
  {
   "cell_type": "code",
   "execution_count": 2,
   "id": "b5913fa5-cab5-4b8d-8a7c-e5412c07b64b",
   "metadata": {},
   "outputs": [
    {
     "data": {
      "text/plain": [
       "7.0"
      ]
     },
     "execution_count": 2,
     "metadata": {},
     "output_type": "execute_result"
    }
   ],
   "source": [
    "Q1 = np.percentile(arr, 25)\n",
    "Q1"
   ]
  },
  {
   "cell_type": "code",
   "execution_count": 3,
   "id": "8b535b5c-8d66-4139-8b4d-fbb7709dd4e7",
   "metadata": {},
   "outputs": [
    {
     "data": {
      "text/plain": [
       "25.0"
      ]
     },
     "execution_count": 3,
     "metadata": {},
     "output_type": "execute_result"
    }
   ],
   "source": [
    "Q3 = np.percentile(arr, 75)\n",
    "Q3"
   ]
  },
  {
   "cell_type": "code",
   "execution_count": 4,
   "id": "1d55c937-2c19-47be-99a2-01344606a821",
   "metadata": {},
   "outputs": [
    {
     "data": {
      "text/plain": [
       "18.0"
      ]
     },
     "execution_count": 4,
     "metadata": {},
     "output_type": "execute_result"
    }
   ],
   "source": [
    "IQR = Q3 - Q1\n",
    "IQR"
   ]
  },
  {
   "cell_type": "code",
   "execution_count": 5,
   "id": "d2eb5650-9abb-47d9-81e4-6c1babf5537d",
   "metadata": {},
   "outputs": [],
   "source": [
    "UF = Q3 + 1.5 * (IQR)\n",
    "LF = Q1 - 1.5 * (IQR)"
   ]
  },
  {
   "cell_type": "code",
   "execution_count": 9,
   "id": "8ccd1038-e269-45d2-810b-450ad9ad0449",
   "metadata": {},
   "outputs": [],
   "source": [
    "l = []\n",
    "for i in arr:\n",
    "    if i >= LF and i <= UF:\n",
    "        l.append(i)\n",
    "arr2 = np.array(l)"
   ]
  },
  {
   "cell_type": "code",
   "execution_count": 10,
   "id": "c05f6056-a7fd-4a0a-a1d4-9ecb817be1d8",
   "metadata": {},
   "outputs": [
    {
     "name": "stdout",
     "output_type": "stream",
     "text": [
      "[  2   3   4   6   7   8   9  12  13  16  17  23  25  27  34  37 201]\n",
      "[ 2  3  4  6  7  8  9 12 13 16 17 23 25 27 34 37]\n"
     ]
    }
   ],
   "source": [
    "print(arr)\n",
    "print(arr2)"
   ]
  },
  {
   "cell_type": "code",
   "execution_count": 11,
   "id": "153a95bc-5b0b-4c17-93b4-1fa8540f79cd",
   "metadata": {},
   "outputs": [
    {
     "data": {
      "text/plain": [
       "<Axes: >"
      ]
     },
     "execution_count": 11,
     "metadata": {},
     "output_type": "execute_result"
    },
    {
     "data": {
      "image/png": "[encoded data removed]",
      "text/plain": [
       "<Figure size 640x480 with 1 Axes>"
      ]
     },
     "metadata": {},
     "output_type": "display_data"
    }
   ],
   "source": [
    "import seaborn as sns\n",
    "\n",
    "sns.boxplot(x = arr2)"
   ]
  }
 ],
 "metadata": {
  "kernelspec": {
   "display_name": "Python 3 (ipykernel)",
   "language": "python",
   "name": "python3"
  },
  "language_info": {
   "codemirror_mode": {
    "name": "ipython",
    "version": 3
   },
   "file_extension": ".py",
   "mimetype": "text/x-python",
   "name": "python",
   "nbconvert_exporter": "python",
   "pygments_lexer": "ipython3",
   "version": "3.12.7"
  }
 },
 "nbformat": 4,
 "nbformat_minor": 5
}
