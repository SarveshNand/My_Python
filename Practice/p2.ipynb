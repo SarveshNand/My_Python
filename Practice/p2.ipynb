{
 "cells": [
  {
   "cell_type": "code",
   "execution_count": 1,
   "id": "b1efda29-92ad-4e74-adfb-25a327ca328c",
   "metadata": {},
   "outputs": [],
   "source": [
    "import numpy as np\n",
    "import pandas as pd"
   ]
  },
  {
   "cell_type": "code",
   "execution_count": 8,
   "id": "080ceefd-eff4-4d0e-b1db-d457e9489ef6",
   "metadata": {},
   "outputs": [],
   "source": [
    "# Create a DataFrame of 5 students with columns: Name, Age, Marks.\n",
    "df = pd.DataFrame({\n",
    "    'Name': ['Shristi', 'Anjali', 'Rishabh', 'Rudra', 'Fatima'],\n",
    "    'Age': [19, 20, 20, 19, 18],\n",
    "    'Marks': [49, 91, 47, 84, 94]\n",
    "})"
   ]
  },
  {
   "cell_type": "code",
   "execution_count": 9,
   "id": "e3302f00-92d5-435b-a1fe-f00c93166f58",
   "metadata": {},
   "outputs": [
    {
     "data": {
      "text/html": [
       "<div>\n",
       "<style scoped>\n",
       "    .dataframe tbody tr th:only-of-type {\n",
       "        vertical-align: middle;\n",
       "    }\n",
       "\n",
       "    .dataframe tbody tr th {\n",
       "        vertical-align: top;\n",
       "    }\n",
       "\n",
       "    .dataframe thead th {\n",
       "        text-align: right;\n",
       "    }\n",
       "</style>\n",
       "<table border=\"1\" class=\"dataframe\">\n",
       "  <thead>\n",
       "    <tr style=\"text-align: right;\">\n",
       "      <th></th>\n",
       "      <th>Name</th>\n",
       "      <th>Age</th>\n",
       "      <th>Marks</th>\n",
       "    </tr>\n",
       "  </thead>\n",
       "  <tbody>\n",
       "    <tr>\n",
       "      <th>0</th>\n",
       "      <td>Shristi</td>\n",
       "      <td>19</td>\n",
       "      <td>49</td>\n",
       "    </tr>\n",
       "    <tr>\n",
       "      <th>1</th>\n",
       "      <td>Anjali</td>\n",
       "      <td>20</td>\n",
       "      <td>91</td>\n",
       "    </tr>\n",
       "    <tr>\n",
       "      <th>2</th>\n",
       "      <td>Rishabh</td>\n",
       "      <td>20</td>\n",
       "      <td>47</td>\n",
       "    </tr>\n",
       "    <tr>\n",
       "      <th>3</th>\n",
       "      <td>Rudra</td>\n",
       "      <td>19</td>\n",
       "      <td>84</td>\n",
       "    </tr>\n",
       "    <tr>\n",
       "      <th>4</th>\n",
       "      <td>Fatima</td>\n",
       "      <td>18</td>\n",
       "      <td>94</td>\n",
       "    </tr>\n",
       "  </tbody>\n",
       "</table>\n",
       "</div>"
      ],
      "text/plain": [
       "      Name  Age  Marks\n",
       "0  Shristi   19     49\n",
       "1   Anjali   20     91\n",
       "2  Rishabh   20     47\n",
       "3    Rudra   19     84\n",
       "4   Fatima   18     94"
      ]
     },
     "execution_count": 9,
     "metadata": {},
     "output_type": "execute_result"
    }
   ],
   "source": [
    "# Display the first 3 rows and last 2 rows of the DataFrame.\n",
    "pd.concat([df.head(3), df.tail(2)])"
   ]
  },
  {
   "cell_type": "code",
   "execution_count": 10,
   "id": "a1a3d29d-a406-4905-9e7e-f3f3b60f5bba",
   "metadata": {},
   "outputs": [
    {
     "data": {
      "text/plain": [
       "(5, 3)"
      ]
     },
     "execution_count": 10,
     "metadata": {},
     "output_type": "execute_result"
    }
   ],
   "source": [
    "# Show the shape of the DataFrame (rows × columns).\n",
    "df.shape"
   ]
  },
  {
   "cell_type": "code",
   "execution_count": 11,
   "id": "c1a814cc-4496-4fa4-ba44-6d88a25b9157",
   "metadata": {},
   "outputs": [
    {
     "data": {
      "text/plain": [
       "0    Shristi\n",
       "1     Anjali\n",
       "2    Rishabh\n",
       "3      Rudra\n",
       "4     Fatima\n",
       "Name: Name, dtype: object"
      ]
     },
     "execution_count": 11,
     "metadata": {},
     "output_type": "execute_result"
    }
   ],
   "source": [
    "# Access only the Name column from the DataFrame.\n",
    "df['Name']"
   ]
  },
  {
   "cell_type": "code",
   "execution_count": 12,
   "id": "237b0122-90be-4d23-872b-bbcca08e691f",
   "metadata": {},
   "outputs": [
    {
     "data": {
      "text/html": [
       "<div>\n",
       "<style scoped>\n",
       "    .dataframe tbody tr th:only-of-type {\n",
       "        vertical-align: middle;\n",
       "    }\n",
       "\n",
       "    .dataframe tbody tr th {\n",
       "        vertical-align: top;\n",
       "    }\n",
       "\n",
       "    .dataframe thead th {\n",
       "        text-align: right;\n",
       "    }\n",
       "</style>\n",
       "<table border=\"1\" class=\"dataframe\">\n",
       "  <thead>\n",
       "    <tr style=\"text-align: right;\">\n",
       "      <th></th>\n",
       "      <th>Name</th>\n",
       "      <th>Age</th>\n",
       "      <th>Marks</th>\n",
       "    </tr>\n",
       "  </thead>\n",
       "  <tbody>\n",
       "    <tr>\n",
       "      <th>1</th>\n",
       "      <td>Anjali</td>\n",
       "      <td>20</td>\n",
       "      <td>91</td>\n",
       "    </tr>\n",
       "    <tr>\n",
       "      <th>3</th>\n",
       "      <td>Rudra</td>\n",
       "      <td>19</td>\n",
       "      <td>84</td>\n",
       "    </tr>\n",
       "    <tr>\n",
       "      <th>4</th>\n",
       "      <td>Fatima</td>\n",
       "      <td>18</td>\n",
       "      <td>94</td>\n",
       "    </tr>\n",
       "  </tbody>\n",
       "</table>\n",
       "</div>"
      ],
      "text/plain": [
       "     Name  Age  Marks\n",
       "1  Anjali   20     91\n",
       "3   Rudra   19     84\n",
       "4  Fatima   18     94"
      ]
     },
     "execution_count": 12,
     "metadata": {},
     "output_type": "execute_result"
    }
   ],
   "source": [
    "# Filter all rows where Marks are greater than 50.\n",
    "df[df['Marks'] > 50]"
   ]
  },
  {
   "cell_type": "code",
   "execution_count": 14,
   "id": "e1c5ce66-0c5a-481d-927e-fff1a878e6c9",
   "metadata": {},
   "outputs": [
    {
     "data": {
      "text/html": [
       "<div>\n",
       "<style scoped>\n",
       "    .dataframe tbody tr th:only-of-type {\n",
       "        vertical-align: middle;\n",
       "    }\n",
       "\n",
       "    .dataframe tbody tr th {\n",
       "        vertical-align: top;\n",
       "    }\n",
       "\n",
       "    .dataframe thead th {\n",
       "        text-align: right;\n",
       "    }\n",
       "</style>\n",
       "<table border=\"1\" class=\"dataframe\">\n",
       "  <thead>\n",
       "    <tr style=\"text-align: right;\">\n",
       "      <th></th>\n",
       "      <th>Name</th>\n",
       "      <th>Age</th>\n",
       "      <th>Marks</th>\n",
       "      <th>Result</th>\n",
       "    </tr>\n",
       "  </thead>\n",
       "  <tbody>\n",
       "    <tr>\n",
       "      <th>0</th>\n",
       "      <td>Shristi</td>\n",
       "      <td>19</td>\n",
       "      <td>49</td>\n",
       "      <td>Fail</td>\n",
       "    </tr>\n",
       "    <tr>\n",
       "      <th>1</th>\n",
       "      <td>Anjali</td>\n",
       "      <td>20</td>\n",
       "      <td>91</td>\n",
       "      <td>Pass</td>\n",
       "    </tr>\n",
       "    <tr>\n",
       "      <th>2</th>\n",
       "      <td>Rishabh</td>\n",
       "      <td>20</td>\n",
       "      <td>47</td>\n",
       "      <td>Fail</td>\n",
       "    </tr>\n",
       "    <tr>\n",
       "      <th>3</th>\n",
       "      <td>Rudra</td>\n",
       "      <td>19</td>\n",
       "      <td>84</td>\n",
       "      <td>Pass</td>\n",
       "    </tr>\n",
       "    <tr>\n",
       "      <th>4</th>\n",
       "      <td>Fatima</td>\n",
       "      <td>18</td>\n",
       "      <td>94</td>\n",
       "      <td>Pass</td>\n",
       "    </tr>\n",
       "  </tbody>\n",
       "</table>\n",
       "</div>"
      ],
      "text/plain": [
       "      Name  Age  Marks Result\n",
       "0  Shristi   19     49   Fail\n",
       "1   Anjali   20     91   Pass\n",
       "2  Rishabh   20     47   Fail\n",
       "3    Rudra   19     84   Pass\n",
       "4   Fatima   18     94   Pass"
      ]
     },
     "execution_count": 14,
     "metadata": {},
     "output_type": "execute_result"
    }
   ],
   "source": [
    "# Add a new column Result with values: \"Pass\" or \"Fail\".\n",
    "df['Result'] = np.where(df['Marks'] > 50, 'Pass', 'Fail')\n",
    "df"
   ]
  },
  {
   "cell_type": "code",
   "execution_count": 15,
   "id": "907ba490-3ced-41ff-8177-ffb0dd0e0488",
   "metadata": {},
   "outputs": [],
   "source": [
    "# Update the Marks of the first student to 95.\n",
    "df.loc[0, 'Marks'] = 95"
   ]
  },
  {
   "cell_type": "code",
   "execution_count": 16,
   "id": "8c347803-c499-4628-9b96-4d1c4a8df12e",
   "metadata": {},
   "outputs": [
    {
     "data": {
      "text/html": [
       "<div>\n",
       "<style scoped>\n",
       "    .dataframe tbody tr th:only-of-type {\n",
       "        vertical-align: middle;\n",
       "    }\n",
       "\n",
       "    .dataframe tbody tr th {\n",
       "        vertical-align: top;\n",
       "    }\n",
       "\n",
       "    .dataframe thead th {\n",
       "        text-align: right;\n",
       "    }\n",
       "</style>\n",
       "<table border=\"1\" class=\"dataframe\">\n",
       "  <thead>\n",
       "    <tr style=\"text-align: right;\">\n",
       "      <th></th>\n",
       "      <th>Name</th>\n",
       "      <th>Age</th>\n",
       "      <th>Marks</th>\n",
       "      <th>Result</th>\n",
       "    </tr>\n",
       "  </thead>\n",
       "  <tbody>\n",
       "    <tr>\n",
       "      <th>0</th>\n",
       "      <td>Shristi</td>\n",
       "      <td>19</td>\n",
       "      <td>95</td>\n",
       "      <td>Fail</td>\n",
       "    </tr>\n",
       "    <tr>\n",
       "      <th>1</th>\n",
       "      <td>Anjali</td>\n",
       "      <td>20</td>\n",
       "      <td>91</td>\n",
       "      <td>Pass</td>\n",
       "    </tr>\n",
       "    <tr>\n",
       "      <th>2</th>\n",
       "      <td>Rishabh</td>\n",
       "      <td>20</td>\n",
       "      <td>47</td>\n",
       "      <td>Fail</td>\n",
       "    </tr>\n",
       "    <tr>\n",
       "      <th>3</th>\n",
       "      <td>Rudra</td>\n",
       "      <td>19</td>\n",
       "      <td>84</td>\n",
       "      <td>Pass</td>\n",
       "    </tr>\n",
       "    <tr>\n",
       "      <th>4</th>\n",
       "      <td>Fatima</td>\n",
       "      <td>18</td>\n",
       "      <td>94</td>\n",
       "      <td>Pass</td>\n",
       "    </tr>\n",
       "  </tbody>\n",
       "</table>\n",
       "</div>"
      ],
      "text/plain": [
       "      Name  Age  Marks Result\n",
       "0  Shristi   19     95   Fail\n",
       "1   Anjali   20     91   Pass\n",
       "2  Rishabh   20     47   Fail\n",
       "3    Rudra   19     84   Pass\n",
       "4   Fatima   18     94   Pass"
      ]
     },
     "execution_count": 16,
     "metadata": {},
     "output_type": "execute_result"
    }
   ],
   "source": [
    "df"
   ]
  },
  {
   "cell_type": "code",
   "execution_count": 19,
   "id": "6c36b482-9d18-4140-a38c-ec89ffaf1892",
   "metadata": {},
   "outputs": [],
   "source": [
    "# Delete the Result column from the DataFrame.\n",
    "df.drop('Result', axis=1, inplace=True)"
   ]
  },
  {
   "cell_type": "code",
   "execution_count": 20,
   "id": "0e8a5827-0070-4ce7-a7ca-ce03ded44d4f",
   "metadata": {},
   "outputs": [
    {
     "data": {
      "text/html": [
       "<div>\n",
       "<style scoped>\n",
       "    .dataframe tbody tr th:only-of-type {\n",
       "        vertical-align: middle;\n",
       "    }\n",
       "\n",
       "    .dataframe tbody tr th {\n",
       "        vertical-align: top;\n",
       "    }\n",
       "\n",
       "    .dataframe thead th {\n",
       "        text-align: right;\n",
       "    }\n",
       "</style>\n",
       "<table border=\"1\" class=\"dataframe\">\n",
       "  <thead>\n",
       "    <tr style=\"text-align: right;\">\n",
       "      <th></th>\n",
       "      <th>Name</th>\n",
       "      <th>Age</th>\n",
       "      <th>Marks</th>\n",
       "    </tr>\n",
       "  </thead>\n",
       "  <tbody>\n",
       "    <tr>\n",
       "      <th>0</th>\n",
       "      <td>Shristi</td>\n",
       "      <td>19</td>\n",
       "      <td>95</td>\n",
       "    </tr>\n",
       "    <tr>\n",
       "      <th>1</th>\n",
       "      <td>Anjali</td>\n",
       "      <td>20</td>\n",
       "      <td>91</td>\n",
       "    </tr>\n",
       "    <tr>\n",
       "      <th>2</th>\n",
       "      <td>Rishabh</td>\n",
       "      <td>20</td>\n",
       "      <td>47</td>\n",
       "    </tr>\n",
       "    <tr>\n",
       "      <th>3</th>\n",
       "      <td>Rudra</td>\n",
       "      <td>19</td>\n",
       "      <td>84</td>\n",
       "    </tr>\n",
       "    <tr>\n",
       "      <th>4</th>\n",
       "      <td>Fatima</td>\n",
       "      <td>18</td>\n",
       "      <td>94</td>\n",
       "    </tr>\n",
       "  </tbody>\n",
       "</table>\n",
       "</div>"
      ],
      "text/plain": [
       "      Name  Age  Marks\n",
       "0  Shristi   19     95\n",
       "1   Anjali   20     91\n",
       "2  Rishabh   20     47\n",
       "3    Rudra   19     84\n",
       "4   Fatima   18     94"
      ]
     },
     "execution_count": 20,
     "metadata": {},
     "output_type": "execute_result"
    }
   ],
   "source": [
    "df"
   ]
  },
  {
   "cell_type": "code",
   "execution_count": 21,
   "id": "c05d32f8-2d57-46a6-ad4c-506033fa480c",
   "metadata": {},
   "outputs": [
    {
     "data": {
      "text/html": [
       "<div>\n",
       "<style scoped>\n",
       "    .dataframe tbody tr th:only-of-type {\n",
       "        vertical-align: middle;\n",
       "    }\n",
       "\n",
       "    .dataframe tbody tr th {\n",
       "        vertical-align: top;\n",
       "    }\n",
       "\n",
       "    .dataframe thead th {\n",
       "        text-align: right;\n",
       "    }\n",
       "</style>\n",
       "<table border=\"1\" class=\"dataframe\">\n",
       "  <thead>\n",
       "    <tr style=\"text-align: right;\">\n",
       "      <th></th>\n",
       "      <th>Name</th>\n",
       "      <th>Age</th>\n",
       "      <th>Marks</th>\n",
       "    </tr>\n",
       "  </thead>\n",
       "  <tbody>\n",
       "    <tr>\n",
       "      <th>0</th>\n",
       "      <td>Shristi</td>\n",
       "      <td>19</td>\n",
       "      <td>95</td>\n",
       "    </tr>\n",
       "    <tr>\n",
       "      <th>4</th>\n",
       "      <td>Fatima</td>\n",
       "      <td>18</td>\n",
       "      <td>94</td>\n",
       "    </tr>\n",
       "    <tr>\n",
       "      <th>1</th>\n",
       "      <td>Anjali</td>\n",
       "      <td>20</td>\n",
       "      <td>91</td>\n",
       "    </tr>\n",
       "    <tr>\n",
       "      <th>3</th>\n",
       "      <td>Rudra</td>\n",
       "      <td>19</td>\n",
       "      <td>84</td>\n",
       "    </tr>\n",
       "    <tr>\n",
       "      <th>2</th>\n",
       "      <td>Rishabh</td>\n",
       "      <td>20</td>\n",
       "      <td>47</td>\n",
       "    </tr>\n",
       "  </tbody>\n",
       "</table>\n",
       "</div>"
      ],
      "text/plain": [
       "      Name  Age  Marks\n",
       "0  Shristi   19     95\n",
       "4   Fatima   18     94\n",
       "1   Anjali   20     91\n",
       "3    Rudra   19     84\n",
       "2  Rishabh   20     47"
      ]
     },
     "execution_count": 21,
     "metadata": {},
     "output_type": "execute_result"
    }
   ],
   "source": [
    "# Sort the DataFrame by Marks in descending order.\n",
    "df.sort_values('Marks', ascending=False)"
   ]
  },
  {
   "cell_type": "code",
   "execution_count": 23,
   "id": "0684c94f-4d49-4fb4-90ef-f7b094a22f12",
   "metadata": {},
   "outputs": [
    {
     "data": {
      "text/plain": [
       "5"
      ]
     },
     "execution_count": 23,
     "metadata": {},
     "output_type": "execute_result"
    }
   ],
   "source": [
    "# Count the number of unique names in the Name column.\n",
    "df['Name'].nunique()"
   ]
  },
  {
   "cell_type": "code",
   "execution_count": 24,
   "id": "3c4dbb92-2b20-4bad-9839-74aae28c64d5",
   "metadata": {},
   "outputs": [
    {
     "data": {
      "text/html": [
       "<div>\n",
       "<style scoped>\n",
       "    .dataframe tbody tr th:only-of-type {\n",
       "        vertical-align: middle;\n",
       "    }\n",
       "\n",
       "    .dataframe tbody tr th {\n",
       "        vertical-align: top;\n",
       "    }\n",
       "\n",
       "    .dataframe thead th {\n",
       "        text-align: right;\n",
       "    }\n",
       "</style>\n",
       "<table border=\"1\" class=\"dataframe\">\n",
       "  <thead>\n",
       "    <tr style=\"text-align: right;\">\n",
       "      <th></th>\n",
       "      <th>Region</th>\n",
       "      <th>Product</th>\n",
       "      <th>Sales</th>\n",
       "    </tr>\n",
       "  </thead>\n",
       "  <tbody>\n",
       "    <tr>\n",
       "      <th>0</th>\n",
       "      <td>Kutchery</td>\n",
       "      <td>Cosmetics</td>\n",
       "      <td>124</td>\n",
       "    </tr>\n",
       "    <tr>\n",
       "      <th>1</th>\n",
       "      <td>Civil Lines</td>\n",
       "      <td>Cosmetics</td>\n",
       "      <td>57</td>\n",
       "    </tr>\n",
       "    <tr>\n",
       "      <th>2</th>\n",
       "      <td>Rani Chauk</td>\n",
       "      <td>Medics</td>\n",
       "      <td>48</td>\n",
       "    </tr>\n",
       "    <tr>\n",
       "      <th>3</th>\n",
       "      <td>Gandhi Nagar</td>\n",
       "      <td>Clothing</td>\n",
       "      <td>91</td>\n",
       "    </tr>\n",
       "    <tr>\n",
       "      <th>4</th>\n",
       "      <td>Lakshmi Complex</td>\n",
       "      <td>Footwears</td>\n",
       "      <td>110</td>\n",
       "    </tr>\n",
       "  </tbody>\n",
       "</table>\n",
       "</div>"
      ],
      "text/plain": [
       "            Region    Product  Sales\n",
       "0         Kutchery  Cosmetics    124\n",
       "1      Civil Lines  Cosmetics     57\n",
       "2       Rani Chauk     Medics     48\n",
       "3     Gandhi Nagar   Clothing     91\n",
       "4  Lakshmi Complex  Footwears    110"
      ]
     },
     "execution_count": 24,
     "metadata": {},
     "output_type": "execute_result"
    }
   ],
   "source": [
    "# Create a DataFrame of Sales with columns: Region, Product, Sales.\n",
    "df2 = pd.DataFrame({\n",
    "    'Region': ['Kutchery', 'Civil Lines', 'Rani Chauk', 'Gandhi Nagar', 'Lakshmi Complex'],\n",
    "    'Product': ['Cosmetics', 'Cosmetics', 'Medics', 'Clothing', 'Footwears'],\n",
    "    'Sales': [124, 57, 48, 91, 110]\n",
    "})\n",
    "df2"
   ]
  },
  {
   "cell_type": "code",
   "execution_count": 25,
   "id": "5021b0f7-d727-42de-98c4-b334eafc88ec",
   "metadata": {},
   "outputs": [
    {
     "data": {
      "text/plain": [
       "430"
      ]
     },
     "execution_count": 25,
     "metadata": {},
     "output_type": "execute_result"
    }
   ],
   "source": [
    "# Calculate the total sales.\n",
    "df2['Sales'].sum()"
   ]
  },
  {
   "cell_type": "code",
   "execution_count": 31,
   "id": "71cb3efb-55f3-4247-a76a-1f164c6b5ce9",
   "metadata": {},
   "outputs": [
    {
     "data": {
      "text/plain": [
       "Product\n",
       "Clothing      91.0\n",
       "Cosmetics     90.5\n",
       "Footwears    110.0\n",
       "Medics        48.0\n",
       "Name: Sales, dtype: float64"
      ]
     },
     "execution_count": 31,
     "metadata": {},
     "output_type": "execute_result"
    }
   ],
   "source": [
    "# Calculate the average sales per product.\n",
    "df2.groupby('Product')['Sales'].mean()"
   ]
  },
  {
   "cell_type": "code",
   "execution_count": 32,
   "id": "46b503a2-024c-447d-be09-bd279d8aca55",
   "metadata": {},
   "outputs": [
    {
     "data": {
      "text/plain": [
       "Product\n",
       "Cosmetics    2\n",
       "Medics       1\n",
       "Clothing     1\n",
       "Footwears    1\n",
       "Name: count, dtype: int64"
      ]
     },
     "execution_count": 32,
     "metadata": {},
     "output_type": "execute_result"
    }
   ],
   "source": [
    "# Count how many times each product appears in the dataset.\n",
    "df2['Product'].value_counts()"
   ]
  },
  {
   "cell_type": "code",
   "execution_count": 34,
   "id": "2c2efd63-c15b-46a7-b3cd-5bae797f10c5",
   "metadata": {},
   "outputs": [
    {
     "data": {
      "text/html": [
       "<div>\n",
       "<style scoped>\n",
       "    .dataframe tbody tr th:only-of-type {\n",
       "        vertical-align: middle;\n",
       "    }\n",
       "\n",
       "    .dataframe tbody tr th {\n",
       "        vertical-align: top;\n",
       "    }\n",
       "\n",
       "    .dataframe thead th {\n",
       "        text-align: right;\n",
       "    }\n",
       "</style>\n",
       "<table border=\"1\" class=\"dataframe\">\n",
       "  <thead>\n",
       "    <tr style=\"text-align: right;\">\n",
       "      <th></th>\n",
       "      <th>min</th>\n",
       "      <th>max</th>\n",
       "    </tr>\n",
       "    <tr>\n",
       "      <th>Region</th>\n",
       "      <th></th>\n",
       "      <th></th>\n",
       "    </tr>\n",
       "  </thead>\n",
       "  <tbody>\n",
       "    <tr>\n",
       "      <th>Civil Lines</th>\n",
       "      <td>57</td>\n",
       "      <td>57</td>\n",
       "    </tr>\n",
       "    <tr>\n",
       "      <th>Gandhi Nagar</th>\n",
       "      <td>91</td>\n",
       "      <td>91</td>\n",
       "    </tr>\n",
       "    <tr>\n",
       "      <th>Kutchery</th>\n",
       "      <td>124</td>\n",
       "      <td>124</td>\n",
       "    </tr>\n",
       "    <tr>\n",
       "      <th>Lakshmi Complex</th>\n",
       "      <td>110</td>\n",
       "      <td>110</td>\n",
       "    </tr>\n",
       "    <tr>\n",
       "      <th>Rani Chauk</th>\n",
       "      <td>48</td>\n",
       "      <td>48</td>\n",
       "    </tr>\n",
       "  </tbody>\n",
       "</table>\n",
       "</div>"
      ],
      "text/plain": [
       "                 min  max\n",
       "Region                   \n",
       "Civil Lines       57   57\n",
       "Gandhi Nagar      91   91\n",
       "Kutchery         124  124\n",
       "Lakshmi Complex  110  110\n",
       "Rani Chauk        48   48"
      ]
     },
     "execution_count": 34,
     "metadata": {},
     "output_type": "execute_result"
    }
   ],
   "source": [
    "# Find maximum and minimum sales per region using groupby and agg.\n",
    "df2.groupby('Region')['Sales'].agg(['min', 'max'])"
   ]
  },
  {
   "cell_type": "code",
   "execution_count": 37,
   "id": "d45b00e3-621d-4281-988d-8af17192fdcb",
   "metadata": {},
   "outputs": [
    {
     "name": "stdout",
     "output_type": "stream",
     "text": [
      "Product          Clothing  Cosmetics  Footwears  Medics\n",
      "Region                                                 \n",
      "Civil Lines           NaN       57.0        NaN     NaN\n",
      "Gandhi Nagar         91.0        NaN        NaN     NaN\n",
      "Kutchery              NaN      124.0        NaN     NaN\n",
      "Lakshmi Complex       NaN        NaN      110.0     NaN\n",
      "Rani Chauk            NaN        NaN        NaN    48.0\n"
     ]
    }
   ],
   "source": [
    "# Create a pivot table showing total sales per Region vs Product.\n",
    "pivot = pd.pivot_table(df2, values='Sales', index='Region', columns='Product', aggfunc='sum')\n",
    "print(pivot)"
   ]
  },
  {
   "cell_type": "code",
   "execution_count": 39,
   "id": "d1dc8292-64e5-4f07-b2b5-463a061d6e1b",
   "metadata": {},
   "outputs": [
    {
     "name": "stdout",
     "output_type": "stream",
     "text": [
      "                 Sales\n",
      "Region                \n",
      "Civil Lines       57.0\n",
      "Gandhi Nagar      91.0\n",
      "Kutchery         124.0\n",
      "Lakshmi Complex  110.0\n",
      "Rani Chauk        48.0\n"
     ]
    }
   ],
   "source": [
    "# Create a pivot table showing average sales per Region.\n",
    "pivot = pd.pivot_table(df2, values='Sales', index='Region', aggfunc='mean')\n",
    "print(pivot)"
   ]
  },
  {
   "cell_type": "code",
   "execution_count": 41,
   "id": "28b84152-ab97-4170-b53b-5dfb67858f22",
   "metadata": {},
   "outputs": [
    {
     "data": {
      "text/plain": [
       "array([ 1,  2,  3,  4,  5,  6,  7,  8,  9, 10])"
      ]
     },
     "execution_count": 41,
     "metadata": {},
     "output_type": "execute_result"
    }
   ],
   "source": [
    "# Create a NumPy array of numbers from 1 to 10.\n",
    "num_arr = np.arange(1, 11)\n",
    "num_arr"
   ]
  },
  {
   "cell_type": "code",
   "execution_count": 42,
   "id": "a7c03f54-6eab-47fa-bddd-ada36a2d9772",
   "metadata": {},
   "outputs": [
    {
     "name": "stdout",
     "output_type": "stream",
     "text": [
      "Sum: 55, Mean: 5.5, Standard Deviation: 2.8722813232690143\n"
     ]
    }
   ],
   "source": [
    "# Find the sum, mean, and standard deviation of the array.\n",
    "sum = num_arr.sum()\n",
    "mean = num_arr.mean()\n",
    "std_dev = num_arr.std()\n",
    "print(f\"Sum: {sum}, Mean: {mean}, Standard Deviation: {std_dev}\")"
   ]
  },
  {
   "cell_type": "code",
   "execution_count": 43,
   "id": "ad548408-4655-4c3d-a3b9-7874c4dd285b",
   "metadata": {},
   "outputs": [
    {
     "data": {
      "text/plain": [
       "array([[ 1,  2,  3,  4],\n",
       "       [ 5,  6,  7,  8],\n",
       "       [ 9, 10, 11, 12]])"
      ]
     },
     "execution_count": 43,
     "metadata": {},
     "output_type": "execute_result"
    }
   ],
   "source": [
    "# Reshape an array of numbers from 1 to 12 into a 3×4 matrix.\n",
    "num_arr2 = np.arange(1, 13).reshape(3, 4)\n",
    "num_arr2"
   ]
  },
  {
   "cell_type": "code",
   "execution_count": 45,
   "id": "1f3226b0-e938-43c1-9e60-7259eaa0dc6f",
   "metadata": {},
   "outputs": [
    {
     "data": {
      "text/plain": [
       "array([[52, 17, 91],\n",
       "       [95, 14, 53],\n",
       "       [39, 96, 50]])"
      ]
     },
     "execution_count": 45,
     "metadata": {},
     "output_type": "execute_result"
    }
   ],
   "source": [
    "# Create a 2D NumPy array of random integers (3×3).\n",
    "random_2d = np.random.randint(low=0, high=100, size=(3, 3))\n",
    "random_2d"
   ]
  },
  {
   "cell_type": "code",
   "execution_count": 46,
   "id": "79e88f90-2620-4781-8cf2-dff11174b056",
   "metadata": {},
   "outputs": [
    {
     "name": "stdout",
     "output_type": "stream",
     "text": [
      "Rows Sum: [160 162 185], Cols Sum: [186 127 194]\n"
     ]
    }
   ],
   "source": [
    "# Find the sum of each row and sum of each column.\n",
    "row_sums = np.sum(random_2d, axis=1)\n",
    "col_sums = np.sum(random_2d, axis=0)\n",
    "print(f\"Rows Sum: {row_sums}, Cols Sum: {col_sums}\")"
   ]
  },
  {
   "cell_type": "code",
   "execution_count": 47,
   "id": "677dbad3-fff6-4c95-a23d-8a5d6a2b8233",
   "metadata": {},
   "outputs": [
    {
     "name": "stdout",
     "output_type": "stream",
     "text": [
      "Matrix A:\n",
      " [[2 4 8]\n",
      " [7 3 6]\n",
      " [9 5 0]]\n",
      "Matrix B:\n",
      " [[8 8 2]\n",
      " [3 5 8]\n",
      " [3 0 9]]\n",
      "A × B:\n",
      " [[ 52  36 108]\n",
      " [ 83  71  92]\n",
      " [ 87  97  58]]\n"
     ]
    }
   ],
   "source": [
    "# Multiply two 3×3 matrices using NumPy.\n",
    "A = np.random.randint(0, 10, size=(3, 3))\n",
    "B = np.random.randint(0, 10, size=(3, 3))\n",
    "\n",
    "result = np.dot(A, B)\n",
    "\n",
    "print(\"Matrix A:\\n\", A)\n",
    "print(\"Matrix B:\\n\", B)\n",
    "print(\"A × B:\\n\", result)"
   ]
  },
  {
   "cell_type": "code",
   "execution_count": 48,
   "id": "1e256753-4b45-4fe6-8052-11ccf9ba71f8",
   "metadata": {},
   "outputs": [
    {
     "name": "stdout",
     "output_type": "stream",
     "text": [
      "Array:\n",
      " [[71  0 69]\n",
      " [93 42 88]\n",
      " [47 77 33]]\n",
      "Max value: 93 at index (1, 0)\n",
      "Min value: 0 at index (0, 1)\n"
     ]
    }
   ],
   "source": [
    "# Find the maximum and minimum value in the array and their indices.\n",
    "array = np.random.randint(0, 100, size=(3, 3))\n",
    "print(\"Array:\\n\", array)\n",
    "\n",
    "max_val = np.max(array)\n",
    "min_val = np.min(array)\n",
    "\n",
    "max_index = np.unravel_index(np.argmax(array), array.shape)\n",
    "min_index = np.unravel_index(np.argmin(array), array.shape)\n",
    "\n",
    "print(\"Max value:\", max_val, \"at index\", max_index)\n",
    "print(\"Min value:\", min_val, \"at index\", min_index)"
   ]
  },
  {
   "cell_type": "code",
   "execution_count": 50,
   "id": "0ea9e8d8-1960-475e-bdf8-c129970dc4b8",
   "metadata": {},
   "outputs": [
    {
     "name": "stdout",
     "output_type": "stream",
     "text": [
      "Original array:\n",
      " [[ 1  9  2  3]\n",
      " [19 17 10 11]\n",
      " [ 2 14 16  3]]\n",
      "Even numbers:\n",
      " [ 2 10  2 14 16]\n"
     ]
    }
   ],
   "source": [
    "# Slice a NumPy array to get only even numbers.\n",
    "array = np.random.randint(0, 20, size=(3, 4))\n",
    "print(\"Original array:\\n\", array)\n",
    "\n",
    "even_numbers = array[array % 2 == 0]\n",
    "print(\"Even numbers:\\n\", even_numbers)"
   ]
  }
 ],
 "metadata": {
  "kernelspec": {
   "display_name": "Python 3 (ipykernel)",
   "language": "python",
   "name": "python3"
  },
  "language_info": {
   "codemirror_mode": {
    "name": "ipython",
    "version": 3
   },
   "file_extension": ".py",
   "mimetype": "text/x-python",
   "name": "python",
   "nbconvert_exporter": "python",
   "pygments_lexer": "ipython3",
   "version": "3.12.7"
  }
 },
 "nbformat": 4,
 "nbformat_minor": 5
}
